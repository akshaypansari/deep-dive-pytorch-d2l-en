{
 "cells": [
  {
   "cell_type": "code",
   "execution_count": 45,
   "id": "6514c81c",
   "metadata": {},
   "outputs": [],
   "source": [
    "import pandas as pd\n",
    "import torch\n",
    "from torch import nn"
   ]
  },
  {
   "cell_type": "code",
   "execution_count": 2,
   "id": "146eda9f",
   "metadata": {},
   "outputs": [],
   "source": [
    "train_df = pd.read_csv(\"../data/kaggle_house_pred_train.csv\")\n",
    "test_df = pd.read_csv(\"../data/kaggle_house_pred_test.csv\")"
   ]
  },
  {
   "cell_type": "code",
   "execution_count": 15,
   "id": "2732159f",
   "metadata": {},
   "outputs": [
    {
     "data": {
      "text/plain": [
       "9"
      ]
     },
     "execution_count": 15,
     "metadata": {},
     "output_type": "execute_result"
    }
   ],
   "source": [
    "# train_df.rank()\n",
    "column_tr = train_df.columns\n",
    "# column_te = test_df.columns\n",
    "y_column_name = column_tr[-1]\n",
    "x_column_name = column_tr[1:-1]\n",
    "# len(y_column_name)"
   ]
  },
  {
   "cell_type": "code",
   "execution_count": 16,
   "id": "43e9f048",
   "metadata": {},
   "outputs": [
    {
     "data": {
      "text/plain": [
       "((1460, 81), (1459, 80))"
      ]
     },
     "execution_count": 16,
     "metadata": {},
     "output_type": "execute_result"
    }
   ],
   "source": [
    "train_df.shape, test_df.shape"
   ]
  },
  {
   "cell_type": "code",
   "execution_count": 28,
   "id": "b92bdca7",
   "metadata": {},
   "outputs": [
    {
     "data": {
      "text/plain": [
       "((1460, 79), (1459, 79), (1460, 81))"
      ]
     },
     "execution_count": 28,
     "metadata": {},
     "output_type": "execute_result"
    }
   ],
   "source": [
    "train_df_trim = train_df.iloc[:,1:-1]\n",
    "test_df_trim = test_df.iloc[:,1:]\n",
    "train_df_trim.shape, test_df_trim.shape,train_df.shape"
   ]
  },
  {
   "cell_type": "code",
   "execution_count": 30,
   "id": "7ad0f203",
   "metadata": {},
   "outputs": [
    {
     "data": {
      "text/plain": [
       "(2919, 79)"
      ]
     },
     "execution_count": 30,
     "metadata": {},
     "output_type": "execute_result"
    }
   ],
   "source": [
    "all_df = pd.concat([train_df_trim, test_df_trim])\n",
    "all_df.shape"
   ]
  },
  {
   "cell_type": "code",
   "execution_count": 36,
   "id": "d847f3eb",
   "metadata": {},
   "outputs": [],
   "source": [
    "#Calculate mean and std_dev\n",
    "numeric_df = all_df.dtypes[all_df.dtypes!='object'].index\n",
    "# numeric_df\n",
    "all_df[numeric_df] = all_df[numeric_df].apply(\n",
    "    lambda x : (x - x.mean())/x.std())\n",
    "# mean = lambda x : ((x - x.mean())/x.std())\n",
    "# for column in all_df:\n"
   ]
  },
  {
   "cell_type": "code",
   "execution_count": 37,
   "id": "e0317715",
   "metadata": {},
   "outputs": [
    {
     "data": {
      "text/plain": [
       "(2919, 331)"
      ]
     },
     "execution_count": 37,
     "metadata": {},
     "output_type": "execute_result"
    }
   ],
   "source": [
    "# Tackling discrete value in regression\n",
    "all_df[numeric_df] = all_df[numeric_df].fillna(0)\n",
    "all_df = pd.get_dummies(all_df, dummy_na=True)\n",
    "all_df.shape"
   ]
  },
  {
   "cell_type": "code",
   "execution_count": 40,
   "id": "cece782d",
   "metadata": {},
   "outputs": [],
   "source": [
    "n_train = train_df.shape[0]"
   ]
  },
  {
   "cell_type": "code",
   "execution_count": 46,
   "id": "778799bc",
   "metadata": {},
   "outputs": [],
   "source": [
    "from sklearn.linear_model import LinearRegression"
   ]
  },
  {
   "cell_type": "code",
   "execution_count": 55,
   "id": "197be756",
   "metadata": {},
   "outputs": [],
   "source": [
    "x_train = all_df.iloc[:n_train, :].values\n",
    "y_train = train_df.iloc[:,[-1]].values\n",
    "x_test = all_df.iloc[n_train:, :].values"
   ]
  },
  {
   "cell_type": "code",
   "execution_count": 56,
   "id": "2bf3df82",
   "metadata": {},
   "outputs": [
    {
     "data": {
      "text/plain": [
       "((1460, 331), (1460, 1), (1459, 331))"
      ]
     },
     "execution_count": 56,
     "metadata": {},
     "output_type": "execute_result"
    }
   ],
   "source": [
    "x_train.shape, y_train.shape,x_test.shape"
   ]
  },
  {
   "cell_type": "code",
   "execution_count": 59,
   "id": "b92627e5",
   "metadata": {},
   "outputs": [],
   "source": [
    "import numpy as np\n",
    "x_train = np.array(x_train)\n",
    "y_train = np.array(y_train)\n",
    "x_test = np.array(x_test)\n"
   ]
  },
  {
   "cell_type": "code",
   "execution_count": 79,
   "id": "fa6a7d8c",
   "metadata": {},
   "outputs": [
    {
     "data": {
      "text/plain": [
       "((1460, 331), (1460, 1), (1459, 331))"
      ]
     },
     "execution_count": 79,
     "metadata": {},
     "output_type": "execute_result"
    }
   ],
   "source": [
    "x_train.shape, y_train.shape,x_test.shape"
   ]
  },
  {
   "cell_type": "code",
   "execution_count": 82,
   "id": "a52acea9",
   "metadata": {},
   "outputs": [],
   "source": [
    "# model = LinearRegression()\n",
    "# model.fit(x_train, y_train)\n",
    "model = LinearRegression().fit(x_train, y_train)"
   ]
  },
  {
   "cell_type": "code",
   "execution_count": 83,
   "id": "d5cacb6e",
   "metadata": {},
   "outputs": [
    {
     "data": {
      "text/plain": [
       "0.9331877107523692"
      ]
     },
     "execution_count": 83,
     "metadata": {},
     "output_type": "execute_result"
    }
   ],
   "source": [
    "model.score(x_train, y_train)"
   ]
  },
  {
   "cell_type": "code",
   "execution_count": 76,
   "id": "9b717127",
   "metadata": {},
   "outputs": [],
   "source": [
    "y_test_pred = model.predict(x_test)"
   ]
  },
  {
   "cell_type": "code",
   "execution_count": 88,
   "id": "8895e5c5",
   "metadata": {},
   "outputs": [],
   "source": [
    "# y_test_pred = y_test_pred[.apply(lambda x: x<1 = 1)]\n",
    "y_test_pred\n",
    "y_test_pred = np.clip(y_test_pred, 1, float('inf'))"
   ]
  },
  {
   "cell_type": "code",
   "execution_count": 89,
   "id": "6d396c4a",
   "metadata": {},
   "outputs": [],
   "source": [
    "test_df['SalePrice'] = pd.Series(y_test_pred.reshape(1, -1)[0])\n",
    "submission = pd.concat([test_df['Id'], test_df['SalePrice']], axis=1)\n",
    "submission.to_csv('submission_clip.csv', index=False)"
   ]
  },
  {
   "cell_type": "code",
   "execution_count": 73,
   "id": "89838aaf",
   "metadata": {},
   "outputs": [
    {
     "data": {
      "text/plain": [
       "array([[-2.47150949e+03,  9.31797576e+02,  5.58611805e+03,\n",
       "         9.41202317e+03,  6.57455905e+03,  9.68267929e+03,\n",
       "         2.11138031e+03,  3.77527892e+03,  8.15789104e+15,\n",
       "         3.02969302e+15,  7.87020211e+15, -7.89209322e+15,\n",
       "        -5.72008898e+15, -6.24986614e+15, -6.76400649e+14,\n",
       "         7.37751470e+15,  8.95312500e+02, -1.28035156e+02,\n",
       "         1.98906250e+03,  8.13937500e+02, -3.09250000e+03,\n",
       "        -2.82487500e+03,  2.77750000e+03,  4.07450000e+03,\n",
       "        -3.64296875e+02,  2.98259375e+03,  4.08014062e+03,\n",
       "         2.05325000e+03, -5.84375000e+00,  1.61046875e+02,\n",
       "         8.73406250e+02,  2.12870312e+03,  2.43907500e+04,\n",
       "        -4.98750000e+01, -1.15382812e+03, -7.71861816e+02,\n",
       "         2.62476268e+14,  6.06597439e+14,  2.67628072e+14,\n",
       "         1.18766444e+15,  1.03783653e+15,  4.48635456e+15,\n",
       "         4.35234853e+16,  4.35234853e+16, -2.38995109e+15,\n",
       "         1.43574448e+15,  1.16618648e+15,  1.81836871e+15,\n",
       "        -3.15424368e+16, -1.06690108e+16, -4.94666429e+15,\n",
       "        -3.22197047e+16,  7.22232261e+16, -5.90544704e+15,\n",
       "        -5.97747619e+15, -4.27177614e+15, -9.10165461e+15,\n",
       "        -1.70389217e+15,  1.00901839e+16,  5.82756786e+15,\n",
       "        -6.73253522e+16,  1.44067808e+16,  9.02396690e+15,\n",
       "         6.37437548e+15,  2.61917998e+15,  1.68164746e+16,\n",
       "        -4.39905871e+16, -1.10272989e+16, -1.04126597e+16,\n",
       "        -3.79731808e+15, -7.08261637e+15, -4.92971245e+15,\n",
       "        -2.95522387e+15, -5.10097182e+15, -9.54686599e+15,\n",
       "        -6.16259729e+15, -1.45801139e+16, -9.33154304e+15,\n",
       "        -1.25980302e+16, -1.16799899e+16, -8.88272217e+15,\n",
       "        -5.65804473e+15, -9.79799885e+15, -1.81466185e+16,\n",
       "        -4.47179332e+15, -1.04712989e+16, -7.79143932e+15,\n",
       "        -1.17132031e+16, -1.38670753e+16, -6.43214374e+15,\n",
       "        -1.12018575e+16, -1.02396882e+16, -1.22290190e+16,\n",
       "        -6.62663710e+15, -7.84473916e+15, -4.56718318e+15,\n",
       "         9.96383201e+15,  4.40373844e+15,  5.80426755e+15,\n",
       "         8.74013490e+15,  2.07923608e+15,  2.89396481e+15,\n",
       "         2.45678844e+15,  3.27050618e+15,  1.14159108e+15,\n",
       "         1.39743767e+15,  3.10736582e+16, -1.02066438e+16,\n",
       "        -1.64351118e+16, -2.48935927e+16, -9.13066600e+15,\n",
       "        -9.13066600e+15, -4.56768163e+15, -4.56768163e+15,\n",
       "        -6.45857034e+15, -1.06123954e+17, -1.01705887e+16,\n",
       "        -3.91090901e+15, -5.14272327e+15, -4.83746463e+15,\n",
       "        -7.26402287e+15, -5.74572044e+16,  1.97693807e+15,\n",
       "         5.13097828e+14,  3.19017857e+15,  3.33572679e+14,\n",
       "         5.76174829e+14,  2.92039462e+15,  1.06051432e+15,\n",
       "         1.30649960e+15,  7.84618788e+16, -1.31277912e+15,\n",
       "        -6.46646886e+15, -1.37637933e+15, -6.22757838e+15,\n",
       "        -9.75093132e+14, -6.58085512e+14, -5.27241931e+16,\n",
       "        -1.14775018e+15, -7.47194034e+15, -1.14775018e+15,\n",
       "        -1.14775018e+15, -1.14775018e+15, -5.48362722e+15,\n",
       "        -3.43852729e+15, -3.03353795e+15, -2.20814298e+16,\n",
       "        -5.76288782e+15, -1.23759377e+15, -2.14210508e+15,\n",
       "        -8.04268674e+15,  4.27976775e+16, -9.61204163e+15,\n",
       "        -1.69538775e+16, -8.75260938e+14, -1.70789711e+16,\n",
       "        -1.25115758e+16, -1.23759377e+15, -5.69801478e+15,\n",
       "        -2.25759910e+16, -1.64505181e+16, -6.48783192e+15,\n",
       "        -9.45480659e+16,  4.24556674e+15,  1.38554782e+15,\n",
       "         3.23934969e+15,  4.71425848e+15, -5.27226021e+16,\n",
       "         7.61189844e+15,  1.29607909e+16,  2.67803458e+15,\n",
       "         1.34880833e+16,  6.93130306e+14,  1.08516332e+16,\n",
       "         1.69636035e+15,  4.71425848e+15,  1.78335873e+16,\n",
       "         1.27570177e+16,  6.15206548e+15,  2.19463622e+16,\n",
       "        -4.87415927e+15, -2.42655405e+16, -2.59473348e+16,\n",
       "        -1.47752811e+16, -4.77650628e+15,  9.57288110e+14,\n",
       "         5.54465806e+14,  2.40511213e+15,  2.47765463e+15,\n",
       "         9.89144902e+15,  1.29638552e+16,  3.03412309e+16,\n",
       "         6.14337850e+16,  6.49195381e+15,  6.82541921e+16,\n",
       "        -2.33967950e+16,  2.88758329e+16,  4.62386403e+16,\n",
       "         4.65427644e+16,  1.20237384e+16,  5.73448044e+15,\n",
       "         3.87017237e+15,  5.37240341e+16, -9.89701327e+15,\n",
       "        -5.96187866e+15, -1.71744591e+16, -1.73052087e+16,\n",
       "        -7.17414752e+16, -6.08557986e+15, -6.57010402e+15,\n",
       "        -1.35761264e+15, -1.01579360e+16,  8.70856277e+16,\n",
       "         1.00709094e+16,  8.41253384e+15,  7.88297318e+15,\n",
       "         1.36927347e+16,  4.75072942e+15, -2.18589904e+16,\n",
       "        -1.78566858e+16, -2.80375975e+16, -1.38009730e+16,\n",
       "        -1.84101975e+16, -2.80570384e+16, -3.56507877e+16,\n",
       "         1.35321299e+15,  1.54313423e+15,  1.09764779e+15,\n",
       "         1.73963001e+15,  1.90505420e+15,  3.61174084e+15,\n",
       "         1.67023789e+15, -5.11443616e+14, -3.40490310e+15,\n",
       "        -2.64567287e+15, -1.53222614e+15, -7.23166551e+14,\n",
       "        -1.25170211e+15, -3.60651887e+16,  1.47663915e+16,\n",
       "         5.16109114e+15,  1.08946508e+16,  9.46540276e+14,\n",
       "         1.34530096e+16,  1.11238164e+17,  9.74342003e+15,\n",
       "         9.74342003e+15, -6.26355489e+15,  2.30477177e+16,\n",
       "         1.21825563e+16,  4.90856162e+15,  1.73752393e+15,\n",
       "         2.61788723e+16,  1.73752393e+15, -6.41229011e+14,\n",
       "        -3.83907463e+14, -1.22633777e+15, -1.25437592e+15,\n",
       "        -3.82447489e+14, -5.13930562e+14, -3.54320593e+14,\n",
       "        -9.43001336e+14, -9.77741142e+14, -6.95601157e+14,\n",
       "        -1.67229102e+14, -1.62199365e+15,  0.00000000e+00,\n",
       "        -2.54445895e+14, -3.31989061e+14, -9.20413283e+14,\n",
       "        -2.63034980e+14, -8.49230971e+14, -1.05563011e+15,\n",
       "         6.62270511e+14,  3.68366773e+15,  8.26695917e+14,\n",
       "         1.82956780e+15,  5.35569894e+14,  3.31320140e+15,\n",
       "         4.14323485e+16, -1.63062173e+16, -1.69520869e+16,\n",
       "        -1.86872252e+16, -2.75824216e+16, -1.86114458e+15,\n",
       "        -1.17146003e+16, -5.24512244e+15, -2.40190320e+15,\n",
       "        -1.80219380e+16, -2.75824216e+16, -2.98410689e+15,\n",
       "        -1.46391879e+16, -6.65892194e+15, -6.43423731e+15,\n",
       "        -2.67567515e+16, -2.77217778e+16,  2.08060554e+16,\n",
       "         1.14601636e+16,  2.33317036e+16,  0.00000000e+00,\n",
       "        -1.65575519e+16, -1.17119730e+16, -1.65575519e+16,\n",
       "        -2.61528312e+16, -8.44536561e+15, -8.23665954e+15,\n",
       "        -1.35602822e+16, -2.74368366e+15, -1.70093610e+16,\n",
       "         1.44026531e+15,  1.28843347e+15,  6.18026181e+15,\n",
       "         6.44548153e+14,  6.48588763e+15, -1.86712682e+16,\n",
       "        -7.02555608e+15, -4.54043373e+15, -1.03164067e+16,\n",
       "        -6.08744871e+15, -5.74028773e+15, -3.01046729e+16,\n",
       "        -5.37046970e+15, -3.75185778e+16,  3.82447489e+14,\n",
       "        -1.34954320e+14, -3.50042971e+13, -4.94012716e+13,\n",
       "        -6.81325983e+13, -2.08852653e+14, -1.51695245e+14,\n",
       "         0.00000000e+00]])"
      ]
     },
     "execution_count": 73,
     "metadata": {},
     "output_type": "execute_result"
    }
   ],
   "source": [
    "model.intercept_\n",
    "model.coef_"
   ]
  },
  {
   "cell_type": "code",
   "execution_count": null,
   "id": "9c5b0bfe",
   "metadata": {},
   "outputs": [],
   "source": []
  }
 ],
 "metadata": {
  "kernelspec": {
   "display_name": "Python 3 (ipykernel)",
   "language": "python",
   "name": "python3"
  },
  "language_info": {
   "codemirror_mode": {
    "name": "ipython",
    "version": 3
   },
   "file_extension": ".py",
   "mimetype": "text/x-python",
   "name": "python",
   "nbconvert_exporter": "python",
   "pygments_lexer": "ipython3",
   "version": "3.8.11"
  }
 },
 "nbformat": 4,
 "nbformat_minor": 5
}
