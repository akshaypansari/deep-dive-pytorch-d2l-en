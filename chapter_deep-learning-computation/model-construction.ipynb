{
 "cells": [
  {
   "cell_type": "markdown",
   "metadata": {
    "origin_pos": 0
   },
   "source": [
    "# Layers and Blocks\n",
    ":label:`sec_model_construction`\n",
    "\n",
    "When we first introduced neural networks,\n",
    "we focused on linear models with a single output.\n",
    "Here, the entire model consists of just a single neuron.\n",
    "Note that a single neuron\n",
    "(i) takes some set of inputs;\n",
    "(ii) generates a corresponding scalar output;\n",
    "and (iii) has a set of associated parameters that can be updated\n",
    "to optimize some objective function of interest.\n",
    "Then, once we started thinking about networks with multiple outputs,\n",
    "we leveraged vectorized arithmetic\n",
    "to characterize an entire layer of neurons.\n",
    "Just like individual neurons,\n",
    "layers (i) take a set of inputs,\n",
    "(ii) generate corresponding outputs,\n",
    "and (iii) are described by a set of tunable parameters.\n",
    "When we worked through softmax regression,\n",
    "a single layer was itself the model.\n",
    "However, even when we subsequently\n",
    "introduced MLPs,\n",
    "we could still think of the model as\n",
    "retaining this same basic structure.\n",
    "\n",
    "Interestingly, for MLPs,\n",
    "both the entire model and its constituent layers\n",
    "share this structure.\n",
    "The entire model takes in raw inputs (the features),\n",
    "generates outputs (the predictions),\n",
    "and possesses parameters\n",
    "(the combined parameters from all constituent layers).\n",
    "Likewise, each individual layer ingests inputs\n",
    "(supplied by the previous layer)\n",
    "generates outputs (the inputs to the subsequent layer),\n",
    "and possesses a set of tunable parameters that are updated\n",
    "according to the signal that flows backwards\n",
    "from the subsequent layer.\n",
    "\n",
    "\n",
    "While you might think that neurons, layers, and models\n",
    "give us enough abstractions to go about our business,\n",
    "it turns out that we often find it convenient\n",
    "to speak about components that are\n",
    "larger than an individual layer\n",
    "but smaller than the entire model.\n",
    "For example, the ResNet-152 architecture,\n",
    "which is wildly popular in computer vision,\n",
    "possesses hundreds of layers.\n",
    "These layers consist of repeating patterns of *groups of layers*. Implementing such a network one layer at a time can grow tedious.\n",
    "This concern is not just hypothetical---such\n",
    "design patterns are common in practice.\n",
    "The ResNet architecture mentioned above\n",
    "won the 2015 ImageNet and COCO computer vision competitions\n",
    "for both recognition and detection :cite:`He.Zhang.Ren.ea.2016`\n",
    "and remains a go-to architecture for many vision tasks.\n",
    "Similar architectures in which layers are arranged\n",
    "in various repeating patterns\n",
    "are now ubiquitous in other domains,\n",
    "including natural language processing and speech.\n",
    "\n",
    "To implement these complex networks,\n",
    "we introduce the concept of a neural network *block*.\n",
    "A block could describe a single layer,\n",
    "a component consisting of multiple layers,\n",
    "or the entire model itself!\n",
    "One benefit of working with the block abstraction\n",
    "is that they can be combined into larger artifacts,\n",
    "often recursively. This is illustrated in :numref:`fig_blocks`. By defining code to generate blocks\n",
    "of arbitrary complexity on demand,\n",
    "we can write surprisingly compact code\n",
    "and still implement complex neural networks.\n",
    "\n",
    "![Multiple layers are combined into blocks, forming repeating patterns of larger models.](../img/blocks.svg)\n",
    ":label:`fig_blocks`\n",
    "\n",
    "\n",
    "From a programing standpoint, a block is represented by a *class*.\n",
    "Any subclass of it must define a forward propagation function\n",
    "that transforms its input into output\n",
    "and must store any necessary parameters.\n",
    "Note that some blocks do not require any parameters at all.\n",
    "Finally a block must possess a backpropagation function,\n",
    "for purposes of calculating gradients.\n",
    "Fortunately, due to some behind-the-scenes magic\n",
    "supplied by the auto differentiation\n",
    "(introduced in :numref:`sec_autograd`)\n",
    "when defining our own block,\n",
    "we only need to worry about parameters\n",
    "and the forward propagation function.\n",
    "\n",
    "[**To begin, we revisit the code\n",
    "that we used to implement MLPs**]\n",
    "(:numref:`sec_mlp_concise`).\n",
    "The following code generates a network\n",
    "with one fully-connected hidden layer\n",
    "with 256 units and ReLU activation,\n",
    "followed by a fully-connected output layer\n",
    "with 10 units (no activation function).\n"
   ]
  },
  {
   "cell_type": "code",
   "execution_count": 1,
   "metadata": {
    "origin_pos": 2,
    "tab": [
     "pytorch"
    ]
   },
   "outputs": [
    {
     "data": {
      "text/plain": [
       "tensor([[ 0.0085,  0.2408,  0.2819,  0.1411, -0.1134, -0.1607, -0.3191, -0.2398,\n",
       "          0.0629, -0.1889],\n",
       "        [ 0.0240,  0.2214,  0.1986,  0.1580, -0.1740, -0.1484, -0.1999, -0.1671,\n",
       "         -0.0329, -0.1148]], grad_fn=<AddmmBackward>)"
      ]
     },
     "execution_count": 1,
     "metadata": {},
     "output_type": "execute_result"
    }
   ],
   "source": [
    "import torch\n",
    "from torch import nn\n",
    "from torch.nn import functional as F\n",
    "\n",
    "net = nn.Sequential(nn.Linear(20, 256), nn.ReLU(), nn.Linear(256, 10))\n",
    "\n",
    "X = torch.rand(2, 20)\n",
    "net(X)"
   ]
  },
  {
   "cell_type": "markdown",
   "metadata": {
    "origin_pos": 5,
    "tab": [
     "pytorch"
    ]
   },
   "source": [
    "In this example, we constructed\n",
    "our model by instantiating an `nn.Sequential`, with layers in the order\n",
    "that they should be executed passed as arguments.\n",
    "In short, (**`nn.Sequential` defines a special kind of `Module`**),\n",
    "the class that presents a block in PyTorch.\n",
    "It maintains an ordered list of constituent `Module`s.\n",
    "Note that each of the two fully-connected layers is an instance of the `Linear` class\n",
    "which is itself a subclass of `Module`.\n",
    "The forward propagation (`forward`) function is also remarkably simple:\n",
    "it chains each block in the list together,\n",
    "passing the output of each as the input to the next.\n",
    "Note that until now, we have been invoking our models\n",
    "via the construction `net(X)` to obtain their outputs.\n",
    "This is actually just shorthand for `net.__call__(X)`.\n"
   ]
  },
  {
   "cell_type": "markdown",
   "metadata": {
    "origin_pos": 7
   },
   "source": [
    "## [**A Custom Block**]\n",
    "\n",
    "Perhaps the easiest way to develop intuition\n",
    "about how a block works\n",
    "is to implement one ourselves.\n",
    "Before we implement our own custom block,\n",
    "we briefly summarize the basic functionality\n",
    "that each block must provide:\n"
   ]
  },
  {
   "cell_type": "markdown",
   "metadata": {
    "origin_pos": 9,
    "tab": [
     "pytorch"
    ]
   },
   "source": [
    "1. Ingest input data as arguments to its forward propagation function.\n",
    "1. Generate an output by having the forward propagation function return a value. Note that the output may have a different shape from the input. For example, the first fully-connected layer in our model above ingests an input of dimension 20 but returns an output of dimension 256.\n",
    "1. Calculate the gradient of its output with respect to its input, which can be accessed via its backpropagation function. Typically this happens automatically.\n",
    "1. Store and provide access to those parameters necessary\n",
    "   to execute the forward propagation computation.\n",
    "1. Initialize model parameters as needed.\n"
   ]
  },
  {
   "cell_type": "markdown",
   "metadata": {
    "origin_pos": 10
   },
   "source": [
    "In the following snippet,\n",
    "we code up a block from scratch\n",
    "corresponding to an MLP\n",
    "with one hidden layer with 256 hidden units,\n",
    "and a 10-dimensional output layer.\n",
    "Note that the `MLP` class below inherits the class that represents a block.\n",
    "We will heavily rely on the parent class's functions,\n",
    "supplying only our own constructor (the `__init__` function in Python) and the forward propagation function.\n"
   ]
  },
  {
   "cell_type": "code",
   "execution_count": 2,
   "metadata": {
    "origin_pos": 12,
    "tab": [
     "pytorch"
    ]
   },
   "outputs": [],
   "source": [
    "class MLP(nn.Module):\n",
    "    # Declare a layer with model parameters. Here, we declare two fully\n",
    "    # connected layers\n",
    "    def __init__(self):\n",
    "        # Call the constructor of the `MLP` parent class `Module` to perform\n",
    "        # the necessary initialization. In this way, other function arguments\n",
    "        # can also be specified during class instantiation, such as the model\n",
    "        # parameters, `params` (to be described later)\n",
    "        super().__init__()\n",
    "        self.hidden = nn.Linear(20, 256)  # Hidden layer\n",
    "        self.out = nn.Linear(256, 10)  # Output layer\n",
    "\n",
    "    # Define the forward propagation of the model, that is, how to return the\n",
    "    # required model output based on the input `X`\n",
    "    def forward(self, X):\n",
    "        # Note here we use the funtional version of ReLU defined in the\n",
    "        # nn.functional module.\n",
    "        return self.out(F.relu(self.hidden(X)))"
   ]
  },
  {
   "cell_type": "markdown",
   "metadata": {
    "origin_pos": 14
   },
   "source": [
    "Let us first focus on the forward propagation function.\n",
    "Note that it takes `X` as the input,\n",
    "calculates the hidden representation\n",
    "with the activation function applied,\n",
    "and outputs its logits.\n",
    "In this `MLP` implementation,\n",
    "both layers are instance variables.\n",
    "To see why this is reasonable, imagine\n",
    "instantiating two MLPs, `net1` and `net2`,\n",
    "and training them on different data.\n",
    "Naturally, we would expect them\n",
    "to represent two different learned models.\n",
    "\n",
    "We [**instantiate the MLP's layers**]\n",
    "in the constructor\n",
    "(**and subsequently invoke these layers**)\n",
    "on each call to the forward propagation function.\n",
    "Note a few key details.\n",
    "First, our customized `__init__` function\n",
    "invokes the parent class's `__init__` function\n",
    "via `super().__init__()`\n",
    "sparing us the pain of restating\n",
    "boilerplate code applicable to most blocks.\n",
    "We then instantiate our two fully-connected layers,\n",
    "assigning them to `self.hidden` and `self.out`.\n",
    "Note that unless we implement a new operator,\n",
    "we need not worry about the backpropagation function\n",
    "or parameter initialization.\n",
    "The system will generate these functions automatically.\n",
    "Let us try this out.\n"
   ]
  },
  {
   "cell_type": "code",
   "execution_count": 3,
   "metadata": {
    "origin_pos": 16,
    "tab": [
     "pytorch"
    ]
   },
   "outputs": [
    {
     "data": {
      "text/plain": [
       "tensor([[-0.0687, -0.2271, -0.3821,  0.0958,  0.2108,  0.0749, -0.2223,  0.0622,\n",
       "          0.0876,  0.2485],\n",
       "        [-0.0522, -0.2152, -0.2337,  0.1765, -0.0405,  0.0834, -0.0922,  0.0032,\n",
       "         -0.0436,  0.1398]], grad_fn=<AddmmBackward>)"
      ]
     },
     "execution_count": 3,
     "metadata": {},
     "output_type": "execute_result"
    }
   ],
   "source": [
    "net = MLP()\n",
    "net(X)"
   ]
  },
  {
   "cell_type": "markdown",
   "metadata": {
    "origin_pos": 18
   },
   "source": [
    "A key virtue of the block abstraction is its versatility.\n",
    "We can subclass a block to create layers\n",
    "(such as the fully-connected layer class),\n",
    "entire models (such as the `MLP` class above),\n",
    "or various components of intermediate complexity.\n",
    "We exploit this versatility\n",
    "throughout the following chapters,\n",
    "such as when addressing\n",
    "convolutional neural networks.\n",
    "\n",
    "\n",
    "## [**The Sequential Block**]\n",
    "\n",
    "We can now take a closer look\n",
    "at how the `Sequential` class works.\n",
    "Recall that `Sequential` was designed\n",
    "to daisy-chain other blocks together.\n",
    "To build our own simplified `MySequential`,\n",
    "we just need to define two key function:\n",
    "1. A function to append blocks one by one to a list.\n",
    "2. A forward propagation function to pass an input through the chain of blocks, in the same order as they were appended.\n",
    "\n",
    "The following `MySequential` class delivers the same\n",
    "functionality of the default `Sequential` class.\n"
   ]
  },
  {
   "cell_type": "code",
   "execution_count": 4,
   "metadata": {
    "origin_pos": 20,
    "tab": [
     "pytorch"
    ]
   },
   "outputs": [],
   "source": [
    "class MySequential(nn.Module):\n",
    "    def __init__(self, *args):\n",
    "        super().__init__()\n",
    "        for idx, module in enumerate(args):\n",
    "            # Here, `module` is an instance of a `Module` subclass. We save it\n",
    "            # in the member variable `_modules` of the `Module` class, and its\n",
    "            # type is OrderedDict\n",
    "            self._modules[str(idx)] = module\n",
    "\n",
    "    def forward(self, X):\n",
    "        # OrderedDict guarantees that members will be traversed in the order\n",
    "        # they were added\n",
    "        for block in self._modules.values():\n",
    "            X = block(X)\n",
    "        return X"
   ]
  },
  {
   "cell_type": "markdown",
   "metadata": {
    "origin_pos": 23,
    "tab": [
     "pytorch"
    ]
   },
   "source": [
    "In the `__init__` method, we add every module\n",
    "to the ordered dictionary `_modules` one by one.\n",
    "You might wonder why every `Module`\n",
    "possesses a `_modules` attribute\n",
    "and why we used it rather than just\n",
    "define a Python list ourselves.\n",
    "In short the chief advantage of `_modules`\n",
    "is that during our module's parameter initialization,\n",
    "the system knows to look inside the `_modules`\n",
    "dictionary to find sub-modules whose\n",
    "parameters also need to be initialized.\n"
   ]
  },
  {
   "cell_type": "markdown",
   "metadata": {
    "origin_pos": 24
   },
   "source": [
    "When our `MySequential`'s forward propagation function is invoked,\n",
    "each added block is executed\n",
    "in the order in which they were added.\n",
    "We can now reimplement an MLP\n",
    "using our `MySequential` class.\n"
   ]
  },
  {
   "cell_type": "code",
   "execution_count": 5,
   "metadata": {
    "origin_pos": 26,
    "tab": [
     "pytorch"
    ]
   },
   "outputs": [
    {
     "data": {
      "text/plain": [
       "tensor([[-0.0726,  0.1379, -0.1044,  0.0318,  0.0486,  0.0291, -0.0548,  0.1368,\n",
       "          0.2851,  0.0205],\n",
       "        [-0.1410,  0.0614, -0.0644,  0.1506,  0.0769, -0.0749, -0.0895,  0.2224,\n",
       "          0.1116, -0.0407]], grad_fn=<AddmmBackward>)"
      ]
     },
     "execution_count": 5,
     "metadata": {},
     "output_type": "execute_result"
    }
   ],
   "source": [
    "net = MySequential(nn.Linear(20, 256), nn.ReLU(), nn.Linear(256, 10))\n",
    "net(X)"
   ]
  },
  {
   "cell_type": "markdown",
   "metadata": {
    "origin_pos": 28
   },
   "source": [
    "Note that this use of `MySequential`\n",
    "is identical to the code we previously wrote\n",
    "for the `Sequential` class\n",
    "(as described in :numref:`sec_mlp_concise`).\n",
    "\n",
    "\n",
    "## [**Executing Code in the Forward Propagation Function**]\n",
    "\n",
    "The `Sequential` class makes model construction easy,\n",
    "allowing us to assemble new architectures\n",
    "without having to define our own class.\n",
    "However, not all architectures are simple daisy chains.\n",
    "When greater flexibility is required,\n",
    "we will want to define our own blocks.\n",
    "For example, we might want to execute\n",
    "Python's control flow within the forward propagation function.\n",
    "Moreover, we might want to perform\n",
    "arbitrary mathematical operations,\n",
    "not simply relying on predefined neural network layers.\n",
    "\n",
    "You might have noticed that until now,\n",
    "all of the operations in our networks\n",
    "have acted upon our network's activations\n",
    "and its parameters.\n",
    "Sometimes, however, we might want to\n",
    "incorporate terms\n",
    "that are neither the result of previous layers\n",
    "nor updatable parameters.\n",
    "We call these *constant parameters*.\n",
    "Say for example that we want a layer\n",
    "that calculates the function\n",
    "$f(\\mathbf{x},\\mathbf{w}) = c \\cdot \\mathbf{w}^\\top \\mathbf{x}$,\n",
    "where $\\mathbf{x}$ is the input, $\\mathbf{w}$ is our parameter,\n",
    "and $c$ is some specified constant\n",
    "that is not updated during optimization.\n",
    "So we implement a `FixedHiddenMLP` class as follows.\n"
   ]
  },
  {
   "cell_type": "code",
   "execution_count": 6,
   "metadata": {
    "origin_pos": 30,
    "tab": [
     "pytorch"
    ]
   },
   "outputs": [],
   "source": [
    "class FixedHiddenMLP(nn.Module):\n",
    "    def __init__(self):\n",
    "        super().__init__()\n",
    "        # Random weight parameters that will not compute gradients and\n",
    "        # therefore keep constant during training\n",
    "        self.rand_weight = torch.rand((20, 20), requires_grad=False)\n",
    "        self.linear = nn.Linear(20, 20)\n",
    "\n",
    "    def forward(self, X):\n",
    "        X = self.linear(X)\n",
    "        # Use the created constant parameters, as well as the `relu` and `mm`\n",
    "        # functions\n",
    "        X = F.relu(torch.mm(X, self.rand_weight) + 1)\n",
    "        # Reuse the fully-connected layer. This is equivalent to sharing\n",
    "        # parameters with two fully-connected layers\n",
    "        X = self.linear(X)\n",
    "        # Control flow\n",
    "        while X.abs().sum() > 1:\n",
    "            X /= 2\n",
    "        return X.sum()"
   ]
  },
  {
   "cell_type": "markdown",
   "metadata": {
    "origin_pos": 32
   },
   "source": [
    "In this `FixedHiddenMLP` model,\n",
    "we implement a hidden layer whose weights\n",
    "(`self.rand_weight`) are initialized randomly\n",
    "at instantiation and are thereafter constant.\n",
    "This weight is not a model parameter\n",
    "and thus it is never updated by backpropagation.\n",
    "The network then passes the output of this \"fixed\" layer\n",
    "through a fully-connected layer.\n",
    "\n",
    "Note that before returning the output,\n",
    "our model did something unusual.\n",
    "We ran a while-loop, testing\n",
    "on the condition its $L_1$ norm is larger than $1$,\n",
    "and dividing our output vector by $2$\n",
    "until it satisfied the condition.\n",
    "Finally, we returned the sum of the entries in `X`.\n",
    "To our knowledge, no standard neural network\n",
    "performs this operation.\n",
    "Note that this particular operation may not be useful\n",
    "in any real-world task.\n",
    "Our point is only to show you how to integrate\n",
    "arbitrary code into the flow of your\n",
    "neural network computations.\n"
   ]
  },
  {
   "cell_type": "code",
   "execution_count": 7,
   "metadata": {
    "origin_pos": 34,
    "tab": [
     "pytorch"
    ]
   },
   "outputs": [
    {
     "data": {
      "text/plain": [
       "tensor(-0.0175, grad_fn=<SumBackward0>)"
      ]
     },
     "execution_count": 7,
     "metadata": {},
     "output_type": "execute_result"
    }
   ],
   "source": [
    "net = FixedHiddenMLP()\n",
    "net(X)"
   ]
  },
  {
   "cell_type": "markdown",
   "metadata": {
    "origin_pos": 35
   },
   "source": [
    "We can [**mix and match various\n",
    "ways of assembling blocks together.**]\n",
    "In the following example, we nest blocks\n",
    "in some creative ways.\n"
   ]
  },
  {
   "cell_type": "code",
   "execution_count": 8,
   "metadata": {
    "origin_pos": 37,
    "tab": [
     "pytorch"
    ]
   },
   "outputs": [
    {
     "data": {
      "text/plain": [
       "tensor(0.0070, grad_fn=<SumBackward0>)"
      ]
     },
     "execution_count": 8,
     "metadata": {},
     "output_type": "execute_result"
    }
   ],
   "source": [
    "class NestMLP(nn.Module):\n",
    "    def __init__(self):\n",
    "        super().__init__()\n",
    "        self.net = nn.Sequential(nn.Linear(20, 64), nn.ReLU(),\n",
    "                                 nn.Linear(64, 32), nn.ReLU())\n",
    "        self.linear = nn.Linear(32, 16)\n",
    "\n",
    "    def forward(self, X):\n",
    "        return self.linear(self.net(X))\n",
    "\n",
    "chimera = nn.Sequential(NestMLP(), nn.Linear(16, 20), FixedHiddenMLP())\n",
    "chimera(X)"
   ]
  },
  {
   "cell_type": "markdown",
   "metadata": {
    "origin_pos": 39
   },
   "source": [
    "## Efficiency\n"
   ]
  },
  {
   "cell_type": "markdown",
   "metadata": {
    "origin_pos": 41,
    "tab": [
     "pytorch"
    ]
   },
   "source": [
    "The avid reader might start to worry\n",
    "about the efficiency of some of these operations.\n",
    "After all, we have lots of dictionary lookups,\n",
    "code execution, and lots of other Pythonic things\n",
    "taking place in what is supposed to be\n",
    "a high-performance deep learning library.\n",
    "The problems of Python's [global interpreter lock](https://wiki.python.org/moin/GlobalInterpreterLock) are well known. \n",
    "In the context of deep learning,\n",
    "we may worry that our extremely fast GPU(s)\n",
    "might have to wait until a puny CPU\n",
    "runs Python code before it gets another job to run.\n"
   ]
  },
  {
   "cell_type": "markdown",
   "metadata": {
    "origin_pos": 43
   },
   "source": [
    "## Summary\n",
    "\n",
    "* Layers are blocks.\n",
    "* Many layers can comprise a block.\n",
    "* Many blocks can comprise a block.\n",
    "* A block can contain code.\n",
    "* Blocks take care of lots of housekeeping, including parameter initialization and backpropagation.\n",
    "* Sequential concatenations of layers and blocks are handled by the `Sequential` block.\n",
    "\n",
    "\n",
    "## Exercises\n",
    "\n",
    "1. What kinds of problems will occur if you change `MySequential` to store blocks in a Python list?\n",
    "1. Implement a block that takes two blocks as an argument, say `net1` and `net2` and returns the concatenated output of both networks in the forward propagation. This is also called a parallel block.\n",
    "1. Assume that you want to concatenate multiple instances of the same network. Implement a factory function that generates multiple instances of the same block and build a larger network from it.\n"
   ]
  },
  {
   "cell_type": "markdown",
   "metadata": {},
   "source": [
    "1. problems about book keeping. Not able to use native torch.tensor. weights initialization\n",
    "2. Done below\n",
    "3. Done below that"
   ]
  },
  {
   "cell_type": "markdown",
   "metadata": {
    "origin_pos": 45,
    "tab": [
     "pytorch"
    ]
   },
   "source": [
    "[Discussions](https://discuss.d2l.ai/t/55)\n"
   ]
  },
  {
   "cell_type": "code",
   "execution_count": 23,
   "metadata": {},
   "outputs": [
    {
     "data": {
      "text/plain": [
       "tensor([[-0.0320,  0.1450,  0.1050, -0.2704, -0.1944,  0.2021, -0.3101, -0.1187,\n",
       "         -0.0399, -0.2274, -0.0710, -0.0713,  0.1039, -0.2043,  0.0291, -0.3050,\n",
       "          0.1956, -0.1594, -0.0463,  0.3433, -0.0600,  0.3457,  0.2740, -0.1737,\n",
       "         -0.0534,  0.3182, -0.2050,  0.1179, -0.1565,  0.0748, -0.1066, -0.0309,\n",
       "         -0.2260,  0.0859,  0.0086, -0.0758,  0.1417, -0.1825,  0.1201, -0.2665,\n",
       "         -0.1622,  0.0280, -0.1493, -0.2155,  0.0436, -0.1583,  0.0560,  0.0144,\n",
       "         -0.4603, -0.0199, -0.1949, -0.0852,  0.2002, -0.1490,  0.1380,  0.1001,\n",
       "         -0.0978, -0.0748,  0.1725,  0.0789,  0.0720, -0.1641,  0.0709,  0.0533,\n",
       "          0.1767, -0.1060, -0.0160, -0.2126, -0.1949,  0.2932,  0.2896, -0.1574,\n",
       "         -0.0799,  0.0052, -0.2184, -0.1973, -0.0580, -0.0117,  0.0930, -0.1948,\n",
       "         -0.2868,  0.0834, -0.0344,  0.3314, -0.0535, -0.0970,  0.3117, -0.0340,\n",
       "         -0.2903,  0.2002, -0.2909, -0.1807, -0.0457, -0.0446, -0.2629,  0.1399,\n",
       "         -0.0611,  0.1658,  0.1681,  0.1625],\n",
       "        [ 0.0150,  0.1350,  0.1872, -0.3114, -0.1664,  0.2127, -0.3796, -0.1027,\n",
       "          0.0341, -0.2027, -0.1511, -0.0317,  0.2478, -0.3425, -0.0844, -0.2035,\n",
       "          0.3541, -0.2214, -0.0378,  0.3610, -0.0495,  0.4573,  0.2841, -0.1026,\n",
       "         -0.0182,  0.3292, -0.3521,  0.1423, -0.1770,  0.1320, -0.2091, -0.0017,\n",
       "         -0.2195,  0.1449, -0.0266, -0.0499,  0.0872, -0.2597, -0.0106, -0.2733,\n",
       "         -0.1862,  0.0699, -0.1379, -0.2730,  0.0565, -0.1050,  0.0668, -0.0740,\n",
       "         -0.5438, -0.1433, -0.1402, -0.0619,  0.0889, -0.1562,  0.1603,  0.0699,\n",
       "         -0.1673, -0.0046,  0.1992,  0.1619,  0.0810, -0.1046,  0.0525,  0.0807,\n",
       "          0.1005, -0.1301, -0.0315, -0.1740, -0.1994,  0.2552,  0.3401, -0.1609,\n",
       "         -0.0679, -0.0156, -0.1762, -0.2299, -0.0888, -0.0584,  0.1321, -0.1924,\n",
       "         -0.2242,  0.1033, -0.0466,  0.3020, -0.0975, -0.1151,  0.3217, -0.0409,\n",
       "         -0.2541,  0.2227, -0.3031, -0.1040, -0.0102, -0.0275, -0.2836,  0.1398,\n",
       "         -0.0062,  0.1548,  0.1579,  0.1963]], grad_fn=<CatBackward>)"
      ]
     },
     "execution_count": 23,
     "metadata": {},
     "output_type": "execute_result"
    }
   ],
   "source": [
    "class concatTwo(nn.Module):\n",
    "    def __init__(self, net1, net2):\n",
    "        super().__init__()\n",
    "        self.net1 = net1\n",
    "        self.net2 = net2\n",
    "        \n",
    "    def forward(self, X):\n",
    "        return torch.cat((self.net1(X),self.net2(X)),dim=1)\n",
    "    \n",
    "X1 =nn.Sequential(nn.Linear(10,20), nn.ReLU(), nn.Linear(20,50))\n",
    "X2 =nn.Sequential(nn.Linear(10,20), nn.ReLU(), nn.Linear(20,50))\n",
    "net = concatTwo(X1,X2)\n",
    "X = torch.rand(2, 10)\n",
    "net(X)\n",
    "        "
   ]
  },
  {
   "cell_type": "code",
   "execution_count": 46,
   "metadata": {},
   "outputs": [
    {
     "name": "stdout",
     "output_type": "stream",
     "text": [
      "RecurseBlock(\n",
      "  (net): Sequential(\n",
      "    (0): Linear(in_features=5, out_features=2, bias=True)\n",
      "    (1): ReLU()\n",
      "    (2): Linear(in_features=2, out_features=1, bias=True)\n",
      "  )\n",
      ")\n",
      "RecurseBlock(\n",
      "  (net): RecurseBlock(\n",
      "    (net): Sequential(\n",
      "      (0): Linear(in_features=5, out_features=2, bias=True)\n",
      "      (1): ReLU()\n",
      "      (2): Linear(in_features=2, out_features=1, bias=True)\n",
      "    )\n",
      "  )\n",
      ")\n"
     ]
    }
   ],
   "source": [
    "class RecurseBlock(nn.Module):\n",
    "    def __init__(self, net, occurrence):\n",
    "        super().__init__()\n",
    "        self.net = net\n",
    "        self.occurrence = occurrence\n",
    "        \n",
    "    def forward(self, X):\n",
    "        block = self.net(X)\n",
    "        if self.occurrence==1:\n",
    "            return block\n",
    "        out_block = block\n",
    "        for time in range(self.occurrence-1): # reduce once for base case\n",
    "            out_block = torch.cat((out_block,block),dim=1)\n",
    "            \n",
    "        return out_block\n",
    "    \n",
    "net1 =nn.Sequential(nn.Linear(5,2), nn.ReLU(), nn.Linear(2,1))\n",
    "\n",
    "net = RecurseBlock(net1,5)\n",
    "X = torch.rand(2,5)\n",
    "print(net)\n",
    "\n",
    "net2 = RecurseBlock(net,5)\n",
    "net2(net(X)) # this is workking too\n",
    "print(net2)"
   ]
  },
  {
   "cell_type": "code",
   "execution_count": 21,
   "metadata": {},
   "outputs": [
    {
     "name": "stdout",
     "output_type": "stream",
     "text": [
      "Help on built-in function cat:\n",
      "\n",
      "cat(...)\n",
      "    cat(tensors, dim=0, *, out=None) -> Tensor\n",
      "    \n",
      "    Concatenates the given sequence of :attr:`seq` tensors in the given dimension.\n",
      "    All tensors must either have the same shape (except in the concatenating\n",
      "    dimension) or be empty.\n",
      "    \n",
      "    :func:`torch.cat` can be seen as an inverse operation for :func:`torch.split`\n",
      "    and :func:`torch.chunk`.\n",
      "    \n",
      "    :func:`torch.cat` can be best understood via examples.\n",
      "    \n",
      "    Args:\n",
      "        tensors (sequence of Tensors): any python sequence of tensors of the same type.\n",
      "            Non-empty tensors provided must have the same shape, except in the\n",
      "            cat dimension.\n",
      "        dim (int, optional): the dimension over which the tensors are concatenated\n",
      "    \n",
      "    Keyword args:\n",
      "        out (Tensor, optional): the output tensor.\n",
      "    \n",
      "    Example::\n",
      "    \n",
      "        >>> x = torch.randn(2, 3)\n",
      "        >>> x\n",
      "        tensor([[ 0.6580, -1.0969, -0.4614],\n",
      "                [-0.1034, -0.5790,  0.1497]])\n",
      "        >>> torch.cat((x, x, x), 0)\n",
      "        tensor([[ 0.6580, -1.0969, -0.4614],\n",
      "                [-0.1034, -0.5790,  0.1497],\n",
      "                [ 0.6580, -1.0969, -0.4614],\n",
      "                [-0.1034, -0.5790,  0.1497],\n",
      "                [ 0.6580, -1.0969, -0.4614],\n",
      "                [-0.1034, -0.5790,  0.1497]])\n",
      "        >>> torch.cat((x, x, x), 1)\n",
      "        tensor([[ 0.6580, -1.0969, -0.4614,  0.6580, -1.0969, -0.4614,  0.6580,\n",
      "                 -1.0969, -0.4614],\n",
      "                [-0.1034, -0.5790,  0.1497, -0.1034, -0.5790,  0.1497, -0.1034,\n",
      "                 -0.5790,  0.1497]])\n",
      "\n"
     ]
    }
   ],
   "source": [
    "help(torch.cat)"
   ]
  },
  {
   "cell_type": "code",
   "execution_count": null,
   "metadata": {},
   "outputs": [],
   "source": []
  }
 ],
 "metadata": {
  "kernelspec": {
   "display_name": "Python 3 (ipykernel)",
   "language": "python",
   "name": "python3"
  },
  "language_info": {
   "codemirror_mode": {
    "name": "ipython",
    "version": 3
   },
   "file_extension": ".py",
   "mimetype": "text/x-python",
   "name": "python",
   "nbconvert_exporter": "python",
   "pygments_lexer": "ipython3",
   "version": "3.8.11"
  }
 },
 "nbformat": 4,
 "nbformat_minor": 4
}
